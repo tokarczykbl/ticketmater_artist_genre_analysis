{
 "cells": [
  {
   "cell_type": "code",
   "execution_count": 1,
   "metadata": {},
   "outputs": [],
   "source": [
    "## Importing Dependencies\n",
    " \n",
    "import pandas as pd\n",
    "import requests\n",
    "import json\n",
    "import sys\n",
    "from pymongo import MongoClient\n",
    "from pprint import pprint\n",
    "from sqlalchemy import create_engine\n",
    "sys.path.append('/Users/tokar/UNC_DA/MY_WORK/Personal_Code')\n",
    "from my_api_config import ticket_master_key\n",
    "import time"
   ]
  },
  {
   "cell_type": "code",
   "execution_count": 2,
   "metadata": {},
   "outputs": [],
   "source": [
    "# Function to remove unnecessary keys from the JSON responses\n",
    "def remove_keys(response):\n",
    "    if '_embedded' in response:  # Check if '_embedded' key exists\n",
    "        # Defining keys to remove in each of their various sections\n",
    "        keys_to_remove_events = [\"test\", \"locale\", \"images\", \"sales\", \"pleaseNote\",\"info\",\"outlets\", \"promoter\", \"promoters\", \"products\", \"seatmap\", \"accessibility\", \"ticketLimit\", \"ageRestrictions\", \"ticketing\", \"_links\"]\n",
    "        keys_to_remove_dates = [\"timezone\", \"spanMultipleDays\", \"status\"]\n",
    "        keys_to_remove_dates_start = [\"dateTBD\", \"dateTBA\", \"timeTBA\", \"noSpecificTime\"]\n",
    "        keys_to_remove_embedded_venues = [\"test\", \"url\", \"locale\", \"aliases\", \"images\", \"dmas\", \"generalInfo\", \"upcomingEvents\", \"_links\", \"social\", \"boxOfficeInfo\", \"parkingDetail\", \"accessibleSeatingDetail\"]\n",
    "        keys_to_remove_embedded_attractions = [\"test\", \"locale\", \"externalLinks\", \"aliases\", \"images\", \"upcomingEvents\", \"_links\"]\n",
    "        keys_to_remove_top = [\"_links\", \"page\"]\n",
    "\n",
    "        # Remove top-level keys\n",
    "        for key in keys_to_remove_top:\n",
    "            if key in response:\n",
    "                del response[key]\n",
    "\n",
    "        # Remove keys from each event\n",
    "        for event in response.get(\"_embedded\", {}).get(\"events\", []):\n",
    "            # Remove keys from \"events\" section\n",
    "            for key in keys_to_remove_events:\n",
    "                if key in event:\n",
    "                    del event[key]\n",
    "            # Remove keys from \"dates\" section\n",
    "            if 'dates' in event:\n",
    "                for key in keys_to_remove_dates:\n",
    "                    if key in event['dates']:\n",
    "                        del event['dates'][key]\n",
    "                # Remove keys from \"start\" section within \"dates\"\n",
    "                if 'start' in event['dates']:\n",
    "                    for key in keys_to_remove_dates_start:\n",
    "                        if key in event['dates']['start']:\n",
    "                            del event['dates']['start'][key]\n",
    "            # Remove keys from \"venues\" section\n",
    "            if '_embedded' in event:\n",
    "                for venue in event['_embedded'].get('venues', []):\n",
    "                    for key in keys_to_remove_embedded_venues:\n",
    "                        if key in venue:\n",
    "                            del venue[key]\n",
    "            # Remove keys from \"attractions\" section\n",
    "            if '_embedded' in event and 'attractions' in event['_embedded']:\n",
    "                for attraction in event['_embedded']['attractions']:\n",
    "                    for key in keys_to_remove_embedded_attractions:\n",
    "                        if key in attraction:\n",
    "                            del attraction[key]"
   ]
  },
  {
   "cell_type": "code",
   "execution_count": 4,
   "metadata": {},
   "outputs": [],
   "source": [
    "\n",
    "# Loop for making 1000 API Calls\n",
    "\n",
    "# Establishing MongoDB Connection\n",
    "mongo = MongoClient(\"mongodb://localhost:27017/\")\n",
    "db = mongo[\"ticket_master_db\"]\n",
    "events_collection = db[\"events\"]\n",
    "\n",
    "# Iterating through 1000 API calls\n",
    "for page_number in range(0, 100):  # Adjust the range as needed\n",
    "    \n",
    "    # Establishing the URL of the API call\n",
    "    url_base = \"https://app.ticketmaster.com/discovery/v2/events.json?\"\n",
    "    url_country = \"&countryCode=US\"\n",
    "    url_source = \"&source=ticketmaster\"\n",
    "    url_segment = \"&segmentName=music\"\n",
    "    url_size = \"&size=200\"\n",
    "    url_date_start = \"&startDateTime=2024-04-05T00:00:00Z\"\n",
    "    url_date_end = \"&endDateTime=2024-10-01T00:00:00Z\"\n",
    "    url_sort = \"&sort=name,date,desc\"\n",
    "    url_page = \"&page=\" + str(page_number)\n",
    "    query_url = url_base + \"apikey=\" + ticket_master_key + url_source + url_date_start + url_date_end + url_country + url_segment + url_size + url_page + url_sort\n",
    "    \n",
    "    # Storing API call response into JSON\n",
    "    response = requests.get(query_url).json()\n",
    "    \n",
    "    # Check if '_embedded' key exists\n",
    "    if '_embedded' in response:\n",
    "        # Running function to remove unnecessary fields\n",
    "        remove_keys(response)\n",
    "        \n",
    "        # Extract the events array if present\n",
    "        events = response[\"_embedded\"].get(\"events\", [])\n",
    "        \n",
    "        # Insert each event into the MongoDB collection\n",
    "        for event in events:\n",
    "            events_collection.insert_one(event)\n",
    "    \n",
    "    time.sleep(4)  # Add a delay if needed"
   ]
  },
  {
   "cell_type": "code",
   "execution_count": 7,
   "metadata": {},
   "outputs": [
    {
     "name": "stdout",
     "output_type": "stream",
     "text": [
      "Data exported to ticket_master.json\n"
     ]
    }
   ],
   "source": [
    "client = MongoClient(\"mongodb://localhost:27017/\")\n",
    "db = client[\"ticket_master_db\"]\n",
    "events_collection = db[\"events\"]\n",
    "\n",
    "# Query the data you want to export\n",
    "data = list(events_collection.find({}))\n",
    "\n",
    "# Convert ObjectId to string\n",
    "for item in data:\n",
    "    item[\"_id\"] = str(item[\"_id\"])\n",
    "\n",
    "# Serialize the data into JSON format\n",
    "ticketmaster_data = json.dumps(data, indent=4)\n",
    "\n",
    "# Write the JSON data to a file\n",
    "with open(\"ticket_master.json\", \"w\") as file:\n",
    "    file.write(ticketmaster_data)\n",
    "\n",
    "print(\"Data exported to ticket_master.json\")"
   ]
  }
 ],
 "metadata": {
  "kernelspec": {
   "display_name": "dev",
   "language": "python",
   "name": "python3"
  },
  "language_info": {
   "codemirror_mode": {
    "name": "ipython",
    "version": 3
   },
   "file_extension": ".py",
   "mimetype": "text/x-python",
   "name": "python",
   "nbconvert_exporter": "python",
   "pygments_lexer": "ipython3",
   "version": "3.10.13"
  }
 },
 "nbformat": 4,
 "nbformat_minor": 2
}
