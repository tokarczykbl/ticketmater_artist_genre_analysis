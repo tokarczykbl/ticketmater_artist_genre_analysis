{
 "cells": [
  {
   "cell_type": "code",
   "execution_count": null,
   "metadata": {},
   "outputs": [],
   "source": [
    "# Establishing dependencies\n",
    "import pandas as pd\n",
    "import requests\n",
    "import json\n",
    "import sys\n",
    "from pprint import pprint\n",
    "from sqlalchemy import create_engine\n",
    "\n",
    "sys.path.append('/Users/tokar/UNC_DA/MY_WORK/Personal_Code')\n",
    "from my_api_config import ticket_master_key"
   ]
  },
  {
   "cell_type": "code",
   "execution_count": null,
   "metadata": {},
   "outputs": [],
   "source": []
  }
 ],
 "metadata": {
  "language_info": {
   "name": "python"
  }
 },
 "nbformat": 4,
 "nbformat_minor": 2
}
